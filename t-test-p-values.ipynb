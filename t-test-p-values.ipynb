{
 "cells": [
  {
   "cell_type": "code",
   "execution_count": 3,
   "id": "f227fba3",
   "metadata": {},
   "outputs": [
    {
     "name": "stdout",
     "output_type": "stream",
     "text": [
      "T-test for packaging machines:\n",
      "t-statistic: -3.3972307061176026\n",
      "p-value: 0.00324224946631798\n",
      "\n",
      "T-test for student GPA averages:\n",
      "t-statistic: -0.864325455323425\n",
      "p-value: 0.39475359666695975\n"
     ]
    }
   ],
   "source": [
    "import numpy as np\n",
    "from scipy import stats\n",
    "\n",
    "# Data for packaging machines\n",
    "new_machine = np.array([42.1, 41, 41.3, 41.8, 42.4, 42.8, 43.2, 42.3, 41.8, 42.7])\n",
    "old_machine = np.array([42.7, 43.6, 43.8, 43.3, 42.5, 43.5, 43.1, 41.7, 44, 44.1])\n",
    "\n",
    "# T-test for packaging machines\n",
    "t_stat, p_value = stats.ttest_ind(new_machine, old_machine, equal_var=False)\n",
    "\n",
    "print(\"T-test for packaging machines:\")\n",
    "print(\"t-statistic:\", t_stat)\n",
    "print(\"p-value:\", p_value)\n",
    "print(\"\")\n",
    "\n",
    "# Data for student GPA averages\n",
    "sophomores = np.array([3.04, 1.71, 3.3, 2.88, 2.11, 2.6, 2.92, 3.6, 2.28, 2.82, 3.03, 3.13, 2.86, 3.49, 3.11, 2.13, 3.27])\n",
    "juniors = np.array([2.56, 2.77, 2.7, 3, 2.98, 3.47, 3.26, 3.2, 3.19, 2.65, 3, 3.39, 2.58])\n",
    "\n",
    "# T-test for student GPA averages\n",
    "t_stat, p_value = stats.ttest_ind(sophomores, juniors, equal_var=True)\n",
    "\n",
    "print(\"T-test for student GPA averages:\")\n",
    "print(\"t-statistic:\", t_stat)\n",
    "print(\"p-value:\", p_value)\n"
   ]
  },
  {
   "cell_type": "markdown",
   "id": "2c09eb59",
   "metadata": {},
   "source": [
    "For packaging machines: There is evidence that one machine is better than the other based on packaging times.\n",
    "\n",
    "For student GPA averages: There is not enough evidence to conclude that the GPA averages of sophomores and juniors differ significantly."
   ]
  }
 ],
 "metadata": {
  "kernelspec": {
   "display_name": "Python 3 (ipykernel)",
   "language": "python",
   "name": "python3"
  },
  "language_info": {
   "codemirror_mode": {
    "name": "ipython",
    "version": 3
   },
   "file_extension": ".py",
   "mimetype": "text/x-python",
   "name": "python",
   "nbconvert_exporter": "python",
   "pygments_lexer": "ipython3",
   "version": "3.9.13"
  }
 },
 "nbformat": 4,
 "nbformat_minor": 5
}
